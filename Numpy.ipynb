{
 "cells": [
  {
   "cell_type": "code",
   "execution_count": 1,
   "id": "67d96098-53ad-4092-94b9-4f6fcecf2215",
   "metadata": {},
   "outputs": [],
   "source": [
    "\n"
   ]
  },
  {
   "cell_type": "code",
   "execution_count": null,
   "id": "672eea40-2efb-4f2c-a371-a42d95d8f4b9",
   "metadata": {},
   "outputs": [],
   "source": [
    "# 1. What is a Python library? Why do we use Python libraries?\n",
    "\n",
    "# A Python library is a collection of pre-written code that provides functionalities to perform specific tasks. We use Python libraries to save time and effort by leveraging existing code \n",
    "# for tasks like numerical computation, data analysis, web development, and more. Libraries extend Python's capabilities beyond its built-in functions, \n",
    "# allowing developers to work more efficiently and effectively "
   ]
  },
  {
   "cell_type": "code",
   "execution_count": null,
   "id": "8d9d126a-2227-4843-b6f4-d96c052136ec",
   "metadata": {},
   "outputs": [],
   "source": [
    "# # 2. What is the difference between Numpy array and List?\n",
    "\n",
    "# Lists are native Python data structures, whereas NumPy arrays are objects provided by the NumPy library .\n",
    "# NumPy arrays are homogeneous, meaning they can only contain elements of the same data type, whereas lists can hold elements of different data types.\n",
    "# NumPy arrays offer better performance for numerical computations and operations compared to lists, especially when dealing with large datasets "
   ]
  },
  {
   "cell_type": "code",
   "execution_count": 1,
   "id": "9db00b0d-70f7-46a4-a1a3-2fe9aa063c26",
   "metadata": {},
   "outputs": [],
   "source": [
    "# 3. Find the shape, size and dimension of the following array?\n",
    "# [[1, 2, 3, 4]\n",
    "# [5, 6, 7, 8],\n",
    "# [9, 10, 11, 12]]\n",
    "\n",
    "import numpy as np"
   ]
  },
  {
   "cell_type": "code",
   "execution_count": 3,
   "id": "68975c5e-b657-48b3-9ebb-eeadda84a3f9",
   "metadata": {},
   "outputs": [],
   "source": [
    "arr1 = np.array([[1,2,3,4], [5,6,7,8],[9,10,11,12] ])"
   ]
  },
  {
   "cell_type": "code",
   "execution_count": 4,
   "id": "fe27f05e-b3a1-41a9-a3fe-61843a76f928",
   "metadata": {},
   "outputs": [
    {
     "data": {
      "text/plain": [
       "array([[ 1,  2,  3,  4],\n",
       "       [ 5,  6,  7,  8],\n",
       "       [ 9, 10, 11, 12]])"
      ]
     },
     "execution_count": 4,
     "metadata": {},
     "output_type": "execute_result"
    }
   ],
   "source": [
    "arr1"
   ]
  },
  {
   "cell_type": "code",
   "execution_count": 5,
   "id": "dbd5809d-e3a0-4bee-9e16-79ca7decfa9e",
   "metadata": {},
   "outputs": [
    {
     "data": {
      "text/plain": [
       "(3, 4)"
      ]
     },
     "execution_count": 5,
     "metadata": {},
     "output_type": "execute_result"
    }
   ],
   "source": [
    "arr1.shape"
   ]
  },
  {
   "cell_type": "code",
   "execution_count": 6,
   "id": "fd37aa9a-8946-4e96-904e-e0d83b8c7b1c",
   "metadata": {},
   "outputs": [
    {
     "data": {
      "text/plain": [
       "12"
      ]
     },
     "execution_count": 6,
     "metadata": {},
     "output_type": "execute_result"
    }
   ],
   "source": [
    "arr1.size"
   ]
  },
  {
   "cell_type": "code",
   "execution_count": 7,
   "id": "0bea49a3-3f00-4197-b682-7e8d3e063703",
   "metadata": {},
   "outputs": [
    {
     "data": {
      "text/plain": [
       "2"
      ]
     },
     "execution_count": 7,
     "metadata": {},
     "output_type": "execute_result"
    }
   ],
   "source": [
    "arr1.ndim"
   ]
  },
  {
   "cell_type": "code",
   "execution_count": 8,
   "id": "f386772d-771f-4087-a58a-526268429a9f",
   "metadata": {},
   "outputs": [],
   "source": [
    "# 4. Write python code to access the first row of the following array?\n",
    "# [[1, 2, 3, 4]\n",
    "# [5, 6, 7, 8],\n",
    "# [9, 10, 11, 12]]\n",
    "\n",
    "arr2 = np.array([[1, 2, 3, 4],[5, 6, 7, 8], [9, 10, 11, 12]])"
   ]
  },
  {
   "cell_type": "code",
   "execution_count": 9,
   "id": "510fe9da-783a-4fca-a6f8-2007641bd162",
   "metadata": {},
   "outputs": [
    {
     "data": {
      "text/plain": [
       "array([[ 1,  2,  3,  4],\n",
       "       [ 5,  6,  7,  8],\n",
       "       [ 9, 10, 11, 12]])"
      ]
     },
     "execution_count": 9,
     "metadata": {},
     "output_type": "execute_result"
    }
   ],
   "source": [
    "arr2"
   ]
  },
  {
   "cell_type": "code",
   "execution_count": 12,
   "id": "a6dddb36-32cd-4089-a28f-28b484b07fa4",
   "metadata": {},
   "outputs": [],
   "source": [
    "first_row = arr2[0]"
   ]
  },
  {
   "cell_type": "code",
   "execution_count": 13,
   "id": "7e9c2c53-d36f-4471-9b02-544f792d1242",
   "metadata": {},
   "outputs": [
    {
     "data": {
      "text/plain": [
       "array([1, 2, 3, 4])"
      ]
     },
     "execution_count": 13,
     "metadata": {},
     "output_type": "execute_result"
    }
   ],
   "source": [
    "first_row"
   ]
  },
  {
   "cell_type": "code",
   "execution_count": 26,
   "id": "76e92175-672d-4af5-b5f6-c84ff47e6a9a",
   "metadata": {},
   "outputs": [],
   "source": [
    "# 5. How do you access the element at the third row and fourth column from the given numpy array?\n",
    "# [[1, 2, 3, 4]\n",
    "# [5, 6, 7, 8],\n",
    "# [9, 10, 11, 12]]\n",
    "\n",
    "arr3 = np.array([[1, 2, 3, 4],[5, 6, 7, 8], [9, 10, 11, 12]])"
   ]
  },
  {
   "cell_type": "code",
   "execution_count": 27,
   "id": "2505ee04-b847-4f1d-9e08-5048c3b691d4",
   "metadata": {},
   "outputs": [
    {
     "data": {
      "text/plain": [
       "array([[ 1,  2,  3,  4],\n",
       "       [ 5,  6,  7,  8],\n",
       "       [ 9, 10, 11, 12]])"
      ]
     },
     "execution_count": 27,
     "metadata": {},
     "output_type": "execute_result"
    }
   ],
   "source": [
    "arr3"
   ]
  },
  {
   "cell_type": "code",
   "execution_count": 31,
   "id": "7241c3a5-3391-4bb0-8224-ff1249149fc0",
   "metadata": {},
   "outputs": [
    {
     "data": {
      "text/plain": [
       "12"
      ]
     },
     "execution_count": 31,
     "metadata": {},
     "output_type": "execute_result"
    }
   ],
   "source": [
    "arr3[2,3]"
   ]
  },
  {
   "cell_type": "code",
   "execution_count": 32,
   "id": "6582e1d5-0f15-4b39-8e87-56648c4c0af8",
   "metadata": {},
   "outputs": [],
   "source": [
    "# 6. Write code to extract all odd-indexed elements from the given numpy array?\n",
    "# [[1, 2, 3, 4]\n",
    "# [5, 6, 7, 8],\n",
    "# [9, 10, 11, 12]]\n",
    "\n",
    "arr4 = np.array([[1, 2, 3, 4],[5, 6, 7, 8],[9, 10, 11, 12]])"
   ]
  },
  {
   "cell_type": "code",
   "execution_count": 33,
   "id": "bb3f8f95-e3ce-4e70-a544-459b521e716e",
   "metadata": {},
   "outputs": [
    {
     "data": {
      "text/plain": [
       "array([[ 1,  2,  3,  4],\n",
       "       [ 5,  6,  7,  8],\n",
       "       [ 9, 10, 11, 12]])"
      ]
     },
     "execution_count": 33,
     "metadata": {},
     "output_type": "execute_result"
    }
   ],
   "source": [
    "arr4"
   ]
  },
  {
   "cell_type": "code",
   "execution_count": 36,
   "id": "f6c2ec6b-ec65-4b5e-95fa-6ee1737cf740",
   "metadata": {},
   "outputs": [],
   "source": [
    "odd_elements = arr4[1::2]"
   ]
  },
  {
   "cell_type": "code",
   "execution_count": 37,
   "id": "e7075f00-7f1e-403a-9ccb-1f0e7effee1e",
   "metadata": {},
   "outputs": [
    {
     "data": {
      "text/plain": [
       "array([[5, 6, 7, 8]])"
      ]
     },
     "execution_count": 37,
     "metadata": {},
     "output_type": "execute_result"
    }
   ],
   "source": [
    "odd_elements"
   ]
  },
  {
   "cell_type": "code",
   "execution_count": 42,
   "id": "df318304-bf4b-4371-bd47-6fb71ad9c970",
   "metadata": {},
   "outputs": [],
   "source": [
    "# 7. How can you generate a random 3x3 matrix with values between 0 and 1?\n",
    "import random\n"
   ]
  },
  {
   "cell_type": "code",
   "execution_count": 52,
   "id": "71faa60d-650f-4813-b4c4-c686a1320d79",
   "metadata": {},
   "outputs": [],
   "source": [
    "ar = np.random.randint(0,1,(3,3))"
   ]
  },
  {
   "cell_type": "code",
   "execution_count": 53,
   "id": "b638684a-a58f-4b17-90b2-bc57d99384d7",
   "metadata": {},
   "outputs": [
    {
     "data": {
      "text/plain": [
       "array([[0, 0, 0],\n",
       "       [0, 0, 0],\n",
       "       [0, 0, 0]])"
      ]
     },
     "execution_count": 53,
     "metadata": {},
     "output_type": "execute_result"
    }
   ],
   "source": [
    "ar"
   ]
  },
  {
   "cell_type": "code",
   "execution_count": null,
   "id": "ef04e6c3-ce0c-4f16-a2e4-9b6542de4292",
   "metadata": {},
   "outputs": [],
   "source": [
    "# 8. Describe the difference between np.random.rand and np.random.randn?\n",
    "np.random.rand: This function generates random numbers from a uniform distribution over the interval [0, 1). It takes dimensions as arguments and returns an array of the specified shape\n",
    "filled with random numbers. Each element in the output array is sampled independently and uniformly from the interval [0, 1)\n",
    "                                                                                                                       \n",
    "np.random.randn: In contrast, this function generates random numbers from a standard normal distribution (mean=0, variance=1), also known as the standard Gaussian distribution. \n",
    "Like np.random.rand, it also takes dimensions as arguments and returns an array of the specified shape filled with random numbers. However, the numbers generated by np.random.randn \n",
    "follow a bell-shaped curve around 0, with most values clustering near the mean (0) and tapering off towards positive and negative infinity                                                                                                                       "
   ]
  },
  {
   "cell_type": "code",
   "execution_count": 58,
   "id": "8a2de1b4-2bd1-4dac-b289-18d6ca1e3884",
   "metadata": {},
   "outputs": [],
   "source": [
    "# 9. Write code to increase the dimension of the following array?\n",
    "# [[1, 2, 3, 4]\n",
    "# [5, 6, 7, 8],\n",
    "# [9, 10, 11, 12]]\n",
    "\n",
    "arr5 = np.array([[1, 2, 3, 4],[5, 6, 7, 8],[9, 10, 11, 12]])"
   ]
  },
  {
   "cell_type": "code",
   "execution_count": 59,
   "id": "093d2067-654a-486c-9bd3-62f99f308953",
   "metadata": {},
   "outputs": [],
   "source": [
    "a = np.expand_dims(arr5, axis = 1)"
   ]
  },
  {
   "cell_type": "code",
   "execution_count": 60,
   "id": "80743ef2-f710-4dcd-994e-7bc997cb92b4",
   "metadata": {},
   "outputs": [
    {
     "data": {
      "text/plain": [
       "array([[[ 1,  2,  3,  4]],\n",
       "\n",
       "       [[ 5,  6,  7,  8]],\n",
       "\n",
       "       [[ 9, 10, 11, 12]]])"
      ]
     },
     "execution_count": 60,
     "metadata": {},
     "output_type": "execute_result"
    }
   ],
   "source": [
    "a"
   ]
  },
  {
   "cell_type": "code",
   "execution_count": 61,
   "id": "aaae2a86-3b0a-48c1-8727-eed1917eb7fe",
   "metadata": {},
   "outputs": [],
   "source": [
    "a = np.expand_dims(arr5, axis = 0)"
   ]
  },
  {
   "cell_type": "code",
   "execution_count": 62,
   "id": "1138e4f0-3fb2-419d-bcf1-475f5279d3f7",
   "metadata": {},
   "outputs": [
    {
     "data": {
      "text/plain": [
       "array([[[ 1,  2,  3,  4],\n",
       "        [ 5,  6,  7,  8],\n",
       "        [ 9, 10, 11, 12]]])"
      ]
     },
     "execution_count": 62,
     "metadata": {},
     "output_type": "execute_result"
    }
   ],
   "source": [
    "a"
   ]
  },
  {
   "cell_type": "code",
   "execution_count": 63,
   "id": "98a4dd57-651f-4cfa-ba99-5fab49bbe144",
   "metadata": {},
   "outputs": [],
   "source": [
    "# 10. How to transpose the following array in NumPy?\n",
    "# [[1, 2, 3, 4]\n",
    "# [5, 6, 7, 8],\n",
    "# [9, 10, 11, 12]]\n",
    "\n",
    "arr6 = np.array([[1, 2, 3, 4],[5, 6, 7, 8],[9, 10, 11, 12]])"
   ]
  },
  {
   "cell_type": "code",
   "execution_count": 64,
   "id": "c78c0754-e950-4fe2-8949-87bae5aa6d35",
   "metadata": {},
   "outputs": [
    {
     "data": {
      "text/plain": [
       "array([[ 1,  2,  3,  4],\n",
       "       [ 5,  6,  7,  8],\n",
       "       [ 9, 10, 11, 12]])"
      ]
     },
     "execution_count": 64,
     "metadata": {},
     "output_type": "execute_result"
    }
   ],
   "source": [
    "arr6"
   ]
  },
  {
   "cell_type": "code",
   "execution_count": 65,
   "id": "8c8e059d-9b44-4e0d-8903-7ce59b569078",
   "metadata": {},
   "outputs": [
    {
     "data": {
      "text/plain": [
       "array([[ 1,  5,  9],\n",
       "       [ 2,  6, 10],\n",
       "       [ 3,  7, 11],\n",
       "       [ 4,  8, 12]])"
      ]
     },
     "execution_count": 65,
     "metadata": {},
     "output_type": "execute_result"
    }
   ],
   "source": [
    "arr6.T"
   ]
  },
  {
   "cell_type": "code",
   "execution_count": 88,
   "id": "714bbcf9-0694-4540-a99b-0bcd989e8f74",
   "metadata": {},
   "outputs": [],
   "source": [
    "# 11. Consi^er the following matrix:\n",
    "# Matrix A2 [[1, 2, 3, 4] [5, 6, 7, 8],[9, 10, 11, 12]]\n",
    "# Matrix B2 [[1, 2, 3, 4] [5, 6, 7, 8],[9, 10, 11, 12]]\n",
    "# Perform the following operation using Python1\n",
    "# 1index wiLe multiplication\n",
    "# 2 Matix multiplication\n",
    "# 3 Add both the maticK\n",
    "# 4 Subtact matix B om \n",
    "# 5 Divide Matix B by A\n",
    "\n",
    "a1 = np.array([[1, 2, 3, 4], [5, 6, 7, 8],[9, 10, 11, 12]])\n",
    "a2 = np.array([[1, 2, 3, 4], [5, 6, 7, 8],[9, 10, 11, 12]])"
   ]
  },
  {
   "cell_type": "code",
   "execution_count": 89,
   "id": "771b8a45-9114-4f4c-9273-d9b0d2213e10",
   "metadata": {},
   "outputs": [
    {
     "data": {
      "text/plain": [
       "array([[ 1,  2,  3,  4],\n",
       "       [ 5,  6,  7,  8],\n",
       "       [ 9, 10, 11, 12]])"
      ]
     },
     "execution_count": 89,
     "metadata": {},
     "output_type": "execute_result"
    }
   ],
   "source": [
    "a1"
   ]
  },
  {
   "cell_type": "code",
   "execution_count": 90,
   "id": "5809c10a-dac6-4d41-945b-e115e29d3dc9",
   "metadata": {},
   "outputs": [
    {
     "data": {
      "text/plain": [
       "array([[ 1,  2,  3,  4],\n",
       "       [ 5,  6,  7,  8],\n",
       "       [ 9, 10, 11, 12]])"
      ]
     },
     "execution_count": 90,
     "metadata": {},
     "output_type": "execute_result"
    }
   ],
   "source": [
    "a2"
   ]
  },
  {
   "cell_type": "code",
   "execution_count": 91,
   "id": "2ddee67d-1698-4171-b13e-4429f6cb747f",
   "metadata": {},
   "outputs": [
    {
     "data": {
      "text/plain": [
       "array([[  1,   4,   9,  16],\n",
       "       [ 25,  36,  49,  64],\n",
       "       [ 81, 100, 121, 144]])"
      ]
     },
     "execution_count": 91,
     "metadata": {},
     "output_type": "execute_result"
    }
   ],
   "source": [
    "# 1 index wiLe multiplication\n",
    "a1*a2"
   ]
  },
  {
   "cell_type": "code",
   "execution_count": 104,
   "id": "75bd8f41-7fb4-486b-bf3b-96207ecd6de5",
   "metadata": {},
   "outputs": [],
   "source": [
    "b1 = np.array([[[1,2],[3,4]]])\n",
    "b2 = np.array([[1,2],[3,4]])"
   ]
  },
  {
   "cell_type": "code",
   "execution_count": 105,
   "id": "ea535e42-5871-440b-921b-52ac3bc7218f",
   "metadata": {},
   "outputs": [
    {
     "data": {
      "text/plain": [
       "array([[[ 7, 10],\n",
       "        [15, 22]]])"
      ]
     },
     "execution_count": 105,
     "metadata": {},
     "output_type": "execute_result"
    }
   ],
   "source": [
    "# 2 Matix multiplication\n",
    "b1 @ b2\n",
    "\n",
    "#I am very confused here, when I am doing matrix multilication here it is running smothly while"
   ]
  },
  {
   "cell_type": "code",
   "execution_count": 98,
   "id": "5fc20a02-6d55-45ed-a469-daa5833384f2",
   "metadata": {},
   "outputs": [],
   "source": [
    "a1 = np.array([[1, 2, 3, 4], [5, 6, 7, 8],[9, 10, 11, 12]])\n",
    "a2 = np.array([[1, 2, 3, 4], [5, 6, 7, 8],[9, 10, 11, 12]])"
   ]
  },
  {
   "cell_type": "code",
   "execution_count": 99,
   "id": "f480e8e4-944b-4c55-ad22-8669c8b3ccff",
   "metadata": {},
   "outputs": [
    {
     "ename": "ValueError",
     "evalue": "matmul: Input operand 1 has a mismatch in its core dimension 0, with gufunc signature (n?,k),(k,m?)->(n?,m?) (size 3 is different from 4)",
     "output_type": "error",
     "traceback": [
      "\u001b[0;31m---------------------------------------------------------------------------\u001b[0m",
      "\u001b[0;31mValueError\u001b[0m                                Traceback (most recent call last)",
      "Cell \u001b[0;32mIn[99], line 1\u001b[0m\n\u001b[0;32m----> 1\u001b[0m \u001b[43ma1\u001b[49m\u001b[43m \u001b[49m\u001b[38;5;241;43m@\u001b[39;49m\u001b[43m \u001b[49m\u001b[43ma2\u001b[49m\n",
      "\u001b[0;31mValueError\u001b[0m: matmul: Input operand 1 has a mismatch in its core dimension 0, with gufunc signature (n?,k),(k,m?)->(n?,m?) (size 3 is different from 4)"
     ]
    }
   ],
   "source": [
    "a1 @ a2\n",
    "#when i am running it here it is giving error, why is it happenning martix multiplcation dosen't care about the dimension until it is 2d or greater than 2d,\n",
    "# number of elements are also same in a1 and a2 even the dimensions are same then why is it not working? why is it trhowing this error (size 3 is different from 4)"
   ]
  },
  {
   "cell_type": "code",
   "execution_count": 79,
   "id": "9f94ec0b-2f9c-488a-95f9-64e81c0f2ee8",
   "metadata": {},
   "outputs": [
    {
     "data": {
      "text/plain": [
       "array([[ 2,  8,  6,  8],\n",
       "       [ 7, 12, 14, 16],\n",
       "       [10, 25, 22, 24]])"
      ]
     },
     "execution_count": 79,
     "metadata": {},
     "output_type": "execute_result"
    }
   ],
   "source": [
    "# 3 Add both the maticK\n",
    "a1 +a2"
   ]
  },
  {
   "cell_type": "code",
   "execution_count": 80,
   "id": "5e48346a-9439-493f-ad28-27a25468edc0",
   "metadata": {},
   "outputs": [
    {
     "data": {
      "text/plain": [
       "array([[ 0, -4,  0,  0],\n",
       "       [ 3,  0,  0,  0],\n",
       "       [ 8, -5,  0,  0]])"
      ]
     },
     "execution_count": 80,
     "metadata": {},
     "output_type": "execute_result"
    }
   ],
   "source": [
    "# 4 Subtact matix B om \n",
    "a1 - a2"
   ]
  },
  {
   "cell_type": "code",
   "execution_count": 102,
   "id": "b4091e6d-fea1-4bd9-b62a-d106e3ccb1f9",
   "metadata": {},
   "outputs": [
    {
     "data": {
      "text/plain": [
       "array([[1., 1., 1., 1.],\n",
       "       [1., 1., 1., 1.],\n",
       "       [1., 1., 1., 1.]])"
      ]
     },
     "execution_count": 102,
     "metadata": {},
     "output_type": "execute_result"
    }
   ],
   "source": [
    "# 5 Divide Matix B by A\n",
    "a1/a2"
   ]
  },
  {
   "cell_type": "code",
   "execution_count": null,
   "id": "951213fc-0d35-4ac5-a23a-7fcd0c645433",
   "metadata": {},
   "outputs": [],
   "source": [
    "12. Which function in Numpy can be use^ to swap the byte order of an array?\n",
    ":- The function in NumPy used to swap the byte order of an array is numpy.ndarray.byteswap() \n",
    "\n",
    "\n",
    "\n",
    "13. What is the significance of the np.linalg.inv function?\n",
    "The np.linalg.inv function in NumPy is significant as it calculates the inverse of a square matrix. This is useful in various mathematical computations, \n",
    "such as solving systems of linear equations, calculating eigenvalues, and more\n",
    "\n",
    "\n",
    "\n",
    "14. What does the np.reshape function ^o, an^ how is it use^?\n",
    "The np.reshape function in NumPy is used to change the shape of an array without changing its data. It takes the array to be reshaped and the new shape as arguments. \n",
    "This function is useful for tasks like converting a 1D array into a 2D array or vice versa, or resizing an array to fit the desired dimensions for computation \n",
    "\n",
    "\n",
    "\n",
    "15. What is broadcasting in Numpy?\n",
    "Broadcasting in NumPy refers to the ability to perform arithmetic operations between arrays of different shapes. NumPy automatically broadcasts arrays to perform element-wise operations, \n",
    "making it possible to operate on arrays with different dimensions and shapes without explicitly creating multiple copies of the data. Broadcasting simplifies code and improves \n",
    "performance in array operations"
   ]
  }
 ],
 "metadata": {
  "kernelspec": {
   "display_name": "Python 3 (ipykernel)",
   "language": "python",
   "name": "python3"
  },
  "language_info": {
   "codemirror_mode": {
    "name": "ipython",
    "version": 3
   },
   "file_extension": ".py",
   "mimetype": "text/x-python",
   "name": "python",
   "nbconvert_exporter": "python",
   "pygments_lexer": "ipython3",
   "version": "3.10.8"
  }
 },
 "nbformat": 4,
 "nbformat_minor": 5
}
